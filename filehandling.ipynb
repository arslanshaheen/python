{
 "cells": [
  {
   "cell_type": "code",
   "execution_count": null,
   "id": "87c6dc91",
   "metadata": {},
   "outputs": [],
   "source": [
    "file=open('example.txt', 'w')# this exmple.text file will create for you\n",
    "file.write('hello this is simple file i will handle for you')\n",
    "file.close()\n"
   ]
  },
  {
   "cell_type": "markdown",
   "id": "ef9ff66f",
   "metadata": {},
   "source": [
    "File Modes\n",
    "Mode\tDescription\n",
    "\n",
    "'r'\tRead (default)\n",
    "\n",
    "'w'\tWrite (truncates existing file)\n",
    "\n",
    "'a'\tAppend\n",
    "\n",
    "'x'\tExclusive creation (fails if file exists)\n",
    "\n",
    "'b'\tBinary mode\n",
    "\n",
    "'t'\tText mode (default)\n",
    "'+'\tUpdating (reading and writing)\n",
    "\n",
    "Examples: 'rb' (read binary), 'w+' (write and read), 'a+' (append and read)"
   ]
  },
  {
   "cell_type": "markdown",
   "id": "243eac8a",
   "metadata": {},
   "source": [
    "Read mode (r) open"
   ]
  }
 ],
 "metadata": {
  "kernelspec": {
   "display_name": "python_course",
   "language": "python",
   "name": "python3"
  },
  "language_info": {
   "codemirror_mode": {
    "name": "ipython",
    "version": 3
   },
   "file_extension": ".py",
   "mimetype": "text/x-python",
   "name": "python",
   "nbconvert_exporter": "python",
   "pygments_lexer": "ipython3",
   "version": "3.10.16"
  }
 },
 "nbformat": 4,
 "nbformat_minor": 5
}
