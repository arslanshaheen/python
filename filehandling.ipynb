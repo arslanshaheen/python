{
 "cells": [
  {
   "cell_type": "code",
   "execution_count": null,
   "id": "87c6dc91",
   "metadata": {},
   "outputs": [],
   "source": [
    "file=open('example.txt', 'w')# this exmple.text file will create for you\n",
    "file.write('hello this is simple file i will handle for you')\n",
    "file.close()\n"
   ]
  },
  {
   "cell_type": "markdown",
   "id": "ef9ff66f",
   "metadata": {},
   "source": [
    "File Modes\n",
    "Mode\tDescription\n",
    "\n",
    "'r'\tRead (default)\n",
    "\n",
    "'w'\tWrite (truncates existing file)\n",
    "\n",
    "'a'\tAppend\n",
    "\n",
    "'x'\tExclusive creation (fails if file exists)\n",
    "\n",
    "'b'\tBinary mode\n",
    "\n",
    "'t'\tText mode (default)\n",
    "'+'\tUpdating (reading and writing)\n",
    "\n",
    "Examples: 'rb' (read binary), 'w+' (write and read), 'a+' (append and read)"
   ]
  },
  {
   "cell_type": "markdown",
   "id": "243eac8a",
   "metadata": {},
   "source": [
    "Read mode (r) opens file for reading the file must exist"
   ]
  },
  {
   "cell_type": "code",
   "execution_count": 3,
   "id": "713cd092",
   "metadata": {},
   "outputs": [
    {
     "name": "stdout",
     "output_type": "stream",
     "text": [
      "file content is: hello this is simple file i will handle for you\n"
     ]
    }
   ],
   "source": [
    "try:\n",
    "    with open('example.txt', 'r') as file:\n",
    "        content=file.read()\n",
    "        print('file content is:', content)\n",
    "except FileNotFoundError:\n",
    "    print('this file is not exist!')"
   ]
  },
  {
   "cell_type": "markdown",
   "id": "de3ad808",
   "metadata": {},
   "source": [
    "Write Mode ('W')-Create a new file or overwrite an existing on"
   ]
  },
  {
   "cell_type": "code",
   "execution_count": 4,
   "id": "8edb8b91",
   "metadata": {},
   "outputs": [
    {
     "name": "stdout",
     "output_type": "stream",
     "text": [
      "file writing sucessfully\n"
     ]
    }
   ],
   "source": [
    "with open('example.txt', 'w') as file:\n",
    "    file.write('this is a new file create file mode using write mode!:') \n",
    "print('file writing sucessfully')"
   ]
  },
  {
   "cell_type": "markdown",
   "id": "e891e57f",
   "metadata": {},
   "source": [
    "Append Mode ('a')-Adds data to a file without  deleting existing content"
   ]
  },
  {
   "cell_type": "code",
   "execution_count": 5,
   "id": "da6dc642",
   "metadata": {},
   "outputs": [
    {
     "name": "stdout",
     "output_type": "stream",
     "text": [
      "physcology new  new sucessfully\n"
     ]
    }
   ],
   "source": [
    "with open('example.txt', 'a') as file:\n",
    "    file.write('\\nthis is a new  added file mode using write mode!:') \n",
    "print('physcology new  new sucessfully')"
   ]
  },
  {
   "cell_type": "markdown",
   "id": "93593ad6",
   "metadata": {},
   "source": [
    "Working with JSON Files"
   ]
  },
  {
   "cell_type": "code",
   "execution_count": 6,
   "id": "76d5a463",
   "metadata": {},
   "outputs": [
    {
     "name": "stdout",
     "output_type": "stream",
     "text": [
      "{'name': 'Alice', 'age': 30, 'city': 'New York'}\n"
     ]
    }
   ],
   "source": [
    "import json\n",
    "\n",
    "# Writing JSON\n",
    "data = {'name': 'Alice', 'age': 30, 'city': 'New York'}\n",
    "with open('data.json', 'w') as file:\n",
    "    json.dump(data, file, indent=4)\n",
    "\n",
    "# Reading JSON\n",
    "with open('data.json', 'r') as file:\n",
    "    loaded_data = json.load(file)\n",
    "    print(loaded_data)"
   ]
  },
  {
   "cell_type": "code",
   "execution_count": 7,
   "id": "ad79331f",
   "metadata": {},
   "outputs": [
    {
     "ename": "FileNotFoundError",
     "evalue": "[Errno 2] No such file or directory: 'data.csv'",
     "output_type": "error",
     "traceback": [
      "\u001b[1;31m---------------------------------------------------------------------------\u001b[0m",
      "\u001b[1;31mFileNotFoundError\u001b[0m                         Traceback (most recent call last)",
      "Cell \u001b[1;32mIn[7], line 4\u001b[0m\n\u001b[0;32m      1\u001b[0m \u001b[38;5;28;01mimport\u001b[39;00m\u001b[38;5;250m \u001b[39m\u001b[38;5;21;01mcsv\u001b[39;00m\n\u001b[0;32m      3\u001b[0m \u001b[38;5;66;03m# Reading CSV\u001b[39;00m\n\u001b[1;32m----> 4\u001b[0m \u001b[38;5;28;01mwith\u001b[39;00m \u001b[38;5;28;43mopen\u001b[39;49m\u001b[43m(\u001b[49m\u001b[38;5;124;43m'\u001b[39;49m\u001b[38;5;124;43mdata.csv\u001b[39;49m\u001b[38;5;124;43m'\u001b[39;49m\u001b[43m,\u001b[49m\u001b[43m \u001b[49m\u001b[38;5;124;43m'\u001b[39;49m\u001b[38;5;124;43mr\u001b[39;49m\u001b[38;5;124;43m'\u001b[39;49m\u001b[43m)\u001b[49m \u001b[38;5;28;01mas\u001b[39;00m file:\n\u001b[0;32m      5\u001b[0m     reader \u001b[38;5;241m=\u001b[39m csv\u001b[38;5;241m.\u001b[39mreader(file)\n\u001b[0;32m      6\u001b[0m     \u001b[38;5;28;01mfor\u001b[39;00m row \u001b[38;5;129;01min\u001b[39;00m reader:\n",
      "File \u001b[1;32mc:\\Users\\Arslan Dev\\miniconda3\\envs\\python_course\\lib\\site-packages\\IPython\\core\\interactiveshell.py:324\u001b[0m, in \u001b[0;36m_modified_open\u001b[1;34m(file, *args, **kwargs)\u001b[0m\n\u001b[0;32m    317\u001b[0m \u001b[38;5;28;01mif\u001b[39;00m file \u001b[38;5;129;01min\u001b[39;00m {\u001b[38;5;241m0\u001b[39m, \u001b[38;5;241m1\u001b[39m, \u001b[38;5;241m2\u001b[39m}:\n\u001b[0;32m    318\u001b[0m     \u001b[38;5;28;01mraise\u001b[39;00m \u001b[38;5;167;01mValueError\u001b[39;00m(\n\u001b[0;32m    319\u001b[0m         \u001b[38;5;124mf\u001b[39m\u001b[38;5;124m\"\u001b[39m\u001b[38;5;124mIPython won\u001b[39m\u001b[38;5;124m'\u001b[39m\u001b[38;5;124mt let you open fd=\u001b[39m\u001b[38;5;132;01m{\u001b[39;00mfile\u001b[38;5;132;01m}\u001b[39;00m\u001b[38;5;124m by default \u001b[39m\u001b[38;5;124m\"\u001b[39m\n\u001b[0;32m    320\u001b[0m         \u001b[38;5;124m\"\u001b[39m\u001b[38;5;124mas it is likely to crash IPython. If you know what you are doing, \u001b[39m\u001b[38;5;124m\"\u001b[39m\n\u001b[0;32m    321\u001b[0m         \u001b[38;5;124m\"\u001b[39m\u001b[38;5;124myou can use builtins\u001b[39m\u001b[38;5;124m'\u001b[39m\u001b[38;5;124m open.\u001b[39m\u001b[38;5;124m\"\u001b[39m\n\u001b[0;32m    322\u001b[0m     )\n\u001b[1;32m--> 324\u001b[0m \u001b[38;5;28;01mreturn\u001b[39;00m io_open(file, \u001b[38;5;241m*\u001b[39margs, \u001b[38;5;241m*\u001b[39m\u001b[38;5;241m*\u001b[39mkwargs)\n",
      "\u001b[1;31mFileNotFoundError\u001b[0m: [Errno 2] No such file or directory: 'data.csv'"
     ]
    }
   ],
   "source": [
    "import csv\n",
    "\n",
    "# Reading CSV\n",
    "with open('data.csv', 'r') as file:\n",
    "    reader = csv.reader(file)\n",
    "    for row in reader:\n",
    "        print(row)\n",
    "\n",
    "# Writing CSV\n",
    "data = [['Name', 'Age'], ['Alice', 30], ['Bob', 25]]\n",
    "with open('output.csv', 'w', newline='') as file:\n",
    "    writer = csv.writer(file)\n",
    "    writer.writerows(data)"
   ]
  },
  {
   "cell_type": "code",
   "execution_count": null,
   "id": "d9f63110",
   "metadata": {},
   "outputs": [],
   "source": []
  }
 ],
 "metadata": {
  "kernelspec": {
   "display_name": "python_course",
   "language": "python",
   "name": "python3"
  },
  "language_info": {
   "codemirror_mode": {
    "name": "ipython",
    "version": 3
   },
   "file_extension": ".py",
   "mimetype": "text/x-python",
   "name": "python",
   "nbconvert_exporter": "python",
   "pygments_lexer": "ipython3",
   "version": "3.10.16"
  }
 },
 "nbformat": 4,
 "nbformat_minor": 5
}
