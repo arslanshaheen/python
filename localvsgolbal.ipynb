{
 "cells": [
  {
   "cell_type": "markdown",
   "id": "a49afb36",
   "metadata": {},
   "source": [
    "A local variable is defined inside a function and can only be used within that function.\n"
   ]
  },
  {
   "cell_type": "code",
   "execution_count": 1,
   "id": "79b13445",
   "metadata": {},
   "outputs": [
    {
     "name": "stdout",
     "output_type": "stream",
     "text": [
      "Inside the function: x = 10, y = 5\n",
      "Outside the function: x = 10\n"
     ]
    }
   ],
   "source": [
    "x = 10\n",
    "\n",
    "def my_function():\n",
    "    y = 5\n",
    "    print(f'Inside the function: x = {x}, y = {y}')\n",
    "\n",
    "my_function()\n",
    "print(f'Outside the function: x = {x}')\n",
    "# print(y)  # ❌ This would give an error\n"
   ]
  },
  {
   "cell_type": "code",
   "execution_count": 4,
   "id": "49b827d6",
   "metadata": {},
   "outputs": [
    {
     "name": "stdout",
     "output_type": "stream",
     "text": [
      "inside outer functions: encoding\n",
      "outside all functions 10\n"
     ]
    }
   ],
   "source": [
    "\n",
    "\n",
    "x=10\n",
    "\n",
    "def outer_function():\n",
    "    x='encoding'\n",
    "    def inner_function():\n",
    "        x='local'\n",
    "        print('inside function',x)\n",
    "        inner_function()\n",
    "    print('inside outer functions:',x)\n",
    "outer_function()\n",
    "print('outside all functions',x)\n"
   ]
  },
  {
   "cell_type": "code",
   "execution_count": 6,
   "id": "c8eec296",
   "metadata": {},
   "outputs": [
    {
     "name": "stdout",
     "output_type": "stream",
     "text": [
      "update counter 1\n"
     ]
    }
   ],
   "source": [
    "counter=0\n",
    "def increment():\n",
    "    global counter\n",
    "    counter +=1\n",
    "increment()\n",
    "print('update counter',counter)"
   ]
  },
  {
   "cell_type": "code",
   "execution_count": 8,
   "id": "82294ba3",
   "metadata": {},
   "outputs": [
    {
     "name": "stdout",
     "output_type": "stream",
     "text": [
      "True\n",
      "False\n",
      "True\n"
     ]
    }
   ],
   "source": [
    "#identify comparsion of is ek comparison operator hai jo identity check karta hai — yaani do variables same object ko point karte hain ya nahi.\n",
    "a = [1, 2, 3]\n",
    "b = a         # both refer to the same list object\n",
    "c = [1, 2, 3] # same content but different object\n",
    "\n",
    "print(a is b)  # True ✅\n",
    "print(a is c)  # False ❌\n",
    "print(a == c)  # True ✅ (because values are equal)\n"
   ]
  },
  {
   "cell_type": "code",
   "execution_count": 9,
   "id": "e6bedf9a",
   "metadata": {},
   "outputs": [],
   "source": [
    "# is\tIdentity (same object)\ta is b ✅ if same memory object\n",
    "# ==\tEquality (same value)"
   ]
  },
  {
   "cell_type": "code",
   "execution_count": 10,
   "id": "1cfca5e0",
   "metadata": {},
   "outputs": [
    {
     "name": "stdout",
     "output_type": "stream",
     "text": [
      "True\n"
     ]
    }
   ],
   "source": [
    "x = 5\n",
    "y = 5\n",
    "print(x is y)  # True (for small integers, Python reuses objects)\n"
   ]
  },
  {
   "cell_type": "code",
   "execution_count": null,
   "id": "6af8a103",
   "metadata": {},
   "outputs": [],
   "source": []
  }
 ],
 "metadata": {
  "kernelspec": {
   "display_name": "python_course",
   "language": "python",
   "name": "python3"
  },
  "language_info": {
   "codemirror_mode": {
    "name": "ipython",
    "version": 3
   },
   "file_extension": ".py",
   "mimetype": "text/x-python",
   "name": "python",
   "nbconvert_exporter": "python",
   "pygments_lexer": "ipython3",
   "version": "3.10.16"
  }
 },
 "nbformat": 4,
 "nbformat_minor": 5
}
