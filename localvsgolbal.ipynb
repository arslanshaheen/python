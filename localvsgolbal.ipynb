{
 "cells": [
  {
   "cell_type": "markdown",
   "id": "a49afb36",
   "metadata": {},
   "source": [
    "A local variable is defined inside a function and can only be used within that function.\n"
   ]
  },
  {
   "cell_type": "code",
   "execution_count": 1,
   "id": "79b13445",
   "metadata": {},
   "outputs": [
    {
     "name": "stdout",
     "output_type": "stream",
     "text": [
      "Inside the function: x = 10, y = 5\n",
      "Outside the function: x = 10\n"
     ]
    }
   ],
   "source": [
    "x = 10\n",
    "\n",
    "def my_function():\n",
    "    y = 5\n",
    "    print(f'Inside the function: x = {x}, y = {y}')\n",
    "\n",
    "my_function()\n",
    "print(f'Outside the function: x = {x}')\n",
    "# print(y)  # ❌ This would give an error\n"
   ]
  },
  {
   "cell_type": "code",
   "execution_count": 3,
   "id": "49b827d6",
   "metadata": {},
   "outputs": [],
   "source": [
    "\n",
    "\n",
    "x=10\n",
    "\n",
    "def outer_function():\n",
    "    x='encoding'\n",
    "    def inner_function():\n",
    "        x='local'\n",
    "        print('inside function',x)\n",
    "        inner_function()\n",
    "    print('inside outer functions:',x)\n",
    "    outer_function()\n",
    "    print('outside all functions',x)\n"
   ]
  },
  {
   "cell_type": "code",
   "execution_count": null,
   "id": "c8eec296",
   "metadata": {},
   "outputs": [],
   "source": []
  }
 ],
 "metadata": {
  "kernelspec": {
   "display_name": "python_course",
   "language": "python",
   "name": "python3"
  },
  "language_info": {
   "codemirror_mode": {
    "name": "ipython",
    "version": 3
   },
   "file_extension": ".py",
   "mimetype": "text/x-python",
   "name": "python",
   "nbconvert_exporter": "python",
   "pygments_lexer": "ipython3",
   "version": "3.10.16"
  }
 },
 "nbformat": 4,
 "nbformat_minor": 5
}
