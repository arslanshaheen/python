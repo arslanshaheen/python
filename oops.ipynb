{
 "cells": [
  {
   "cell_type": "markdown",
   "id": "b032b4e9",
   "metadata": {},
   "source": [
    " \n",
    " Understanding Classes\n",
    " \n",
    " \n",
    " A class is a blueprint or template used to define the structure and behavior of objects. It encapsulates all the properties (attributes) and functions (methods) that the objects derived from it will have. For example, in the case of a car, the class defines how the car looks, what it can do, and its characteristics like color, speed, and fuel capacity."
   ]
  },
  {
   "cell_type": "markdown",
   "id": "eff434c0",
   "metadata": {},
   "source": [
    "Attributes in OOP\n",
    "\n",
    "\n",
    "\n",
    " Attributes are the characteristics or properties of an object. For example, a car may have attributes such as color, weight, engine capacity, and top speed. These attributes can vary from one object to another, even if they belong to the same class."
   ]
  },
  {
   "cell_type": "markdown",
   "id": "58f8b421",
   "metadata": {},
   "source": [
    "Methods in OOP\n",
    "\n",
    "\n",
    "Methods are the functions or actions that objects can perform. For a car, methods could include starting, stopping, accelerating, or turning. Methods define the operations that can be performed on or by the object."
   ]
  },
  {
   "cell_type": "markdown",
   "id": "be9a6a3f",
   "metadata": {},
   "source": [
    "Objects and Instances\n",
    "\n",
    " An object is an instance of a class. It is a specific realization of the class, with its own set of attributes. For example, a red car with a top speed of 200 km/h and a fuel capacity of 50 liters is an object created from the car class. Multiple objects can be created from a single class, each with different values for their attributes"
   ]
  },
  {
   "cell_type": "markdown",
   "id": "f293da6a",
   "metadata": {},
   "source": [
    "Real-Life Examples\n",
    "\n",
    "The Car Example\\\\\n",
    "Class: Car (blueprint)\n",
    "\n",
    "Attributes: Color, top speed, engine capacity, fuel capacity\n",
    "Methods: Start(), Stop(), Accelerate(), Lock(), Unlock()\n",
    "Object: A red car with a top speed of 200 km/h and a fuel capacity of 50 liters. This car is an object created from the Car class, with specific values for its attributes."
   ]
  },
  {
   "cell_type": "markdown",
   "id": "a337ddbf",
   "metadata": {},
   "source": []
  }
 ],
 "metadata": {
  "language_info": {
   "name": "python"
  }
 },
 "nbformat": 4,
 "nbformat_minor": 5
}
