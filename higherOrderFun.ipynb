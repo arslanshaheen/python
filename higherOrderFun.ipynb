{
 "cells": [
  {
   "cell_type": "markdown",
   "id": "cc34130f",
   "metadata": {},
   "source": [
    "In Python, Higher Order Functions (HOFs) play an important role in functional programming and allow for writing more modular, reusable and readable code. A Higher-Order Function is a function that either:\n",
    "\n",
    "Takes another function as an argument\n",
    "Returns a function as a result"
   ]
  },
  {
   "cell_type": "code",
   "execution_count": 1,
   "id": "2afa2d14",
   "metadata": {},
   "outputs": [
    {
     "name": "stdout",
     "output_type": "stream",
     "text": [
      "ARSLAN SHAH\n"
     ]
    }
   ],
   "source": [
    "def greet(func): # higher-order function \n",
    "    return func(\"arslan shah\")\n",
    "\n",
    "def uppercase(text): # function to be passed\n",
    "    return text.upper()\n",
    "\n",
    "print(greet(uppercase))"
   ]
  },
  {
   "cell_type": "markdown",
   "id": "5f1fe899",
   "metadata": {},
   "source": [
    "apply(func, x) takes another function as an argument.\n",
    "square(n) computes the square of n.\n",
    "apply(square, 5) executes square(5), resulting in 25."
   ]
  },
  {
   "cell_type": "code",
   "execution_count": 4,
   "id": "830a5049",
   "metadata": {},
   "outputs": [
    {
     "name": "stdout",
     "output_type": "stream",
     "text": [
      "25\n"
     ]
    }
   ],
   "source": [
    "def apply(func,x):\n",
    "    return func(x)\n",
    "\n",
    "def square(n):\n",
    "    return n*n   \n",
    "\n",
    "print(apply(square,5))"
   ]
  },
  {
   "cell_type": "markdown",
   "id": "5e424218",
   "metadata": {},
   "source": [
    "Built in Higher Order Functions in Python\n",
    "Python provides several built-in Higher Order Functions such as \n",
    "map(), filter() and sorted(), which simplify operations on iterable objects."
   ]
  },
  {
   "cell_type": "code",
   "execution_count": 5,
   "id": "b3cf3d98",
   "metadata": {},
   "outputs": [
    {
     "name": "stdout",
     "output_type": "stream",
     "text": [
      "[2, 4, 6, 8, 10, 12]\n"
     ]
    }
   ],
   "source": [
    "def double(x):\n",
    "    return x*2\n",
    "numbers=[1,2,3,4,5,6]\n",
    "doubled=list(map(double, numbers))\n",
    "print(doubled)"
   ]
  },
  {
   "cell_type": "code",
   "execution_count": 9,
   "id": "81bd505a",
   "metadata": {},
   "outputs": [
    {
     "name": "stdout",
     "output_type": "stream",
     "text": [
      "[1, 4, 9, 16]\n"
     ]
    }
   ],
   "source": [
    "# Squaring each element in a list\n",
    "\n",
    "a = [1, 2, 3, 4]\n",
    "res = list(map(lambda x: x ** 2,a))\n",
    "print(res)\n",
    " #####lambda x: x ** 2 squares each number in the list."
   ]
  },
  {
   "cell_type": "code",
   "execution_count": 11,
   "id": "262c4317",
   "metadata": {},
   "outputs": [
    {
     "name": "stdout",
     "output_type": "stream",
     "text": [
      "[0.5, 1.0, 1.5, 2.0]\n"
     ]
    }
   ],
   "source": [
    "# dividing each element in a list\n",
    "\n",
    "a = [1, 2, 3, 4]\n",
    "res = list(map(lambda x: x / 2,a))\n",
    "print(res)"
   ]
  },
  {
   "cell_type": "code",
   "execution_count": 12,
   "id": "ab0c4bbf",
   "metadata": {},
   "outputs": [
    {
     "name": "stdout",
     "output_type": "stream",
     "text": [
      "[2, 4, 6]\n"
     ]
    }
   ],
   "source": [
    "# filter()\n",
    "# A higher-order function that accepts a function to evaluate each element, returning only those that satisfy the given condition.\n",
    "# filtering even numbers\n",
    "\n",
    "a = [1, 2, 3, 4, 5, 6]\n",
    "res = list(filter(lambda x: x % 2 == 0, a))\n",
    "print(res)\n"
   ]
  },
  {
   "cell_type": "code",
   "execution_count": 14,
   "id": "4e754053",
   "metadata": {},
   "outputs": [
    {
     "name": "stdout",
     "output_type": "stream",
     "text": [
      "[2, 4, 6]\n"
     ]
    }
   ],
   "source": [
    "def even(x):\n",
    "    return x%2==0\n",
    "numbers=[1,2,3,4,5,6]\n",
    "even=list(filter(double, numbers))\n",
    "print(even)"
   ]
  },
  {
   "cell_type": "code",
   "execution_count": 15,
   "id": "98ad7934",
   "metadata": {},
   "outputs": [
    {
     "name": "stdout",
     "output_type": "stream",
     "text": [
      "['java', 'python', 'javascript']\n"
     ]
    }
   ],
   "source": [
    "# sorting words based on length\n",
    "a = [\"python\", \"java\", \"javascript\"]\n",
    "\n",
    "res = sorted(a, key=len)\n",
    "print(res)\n"
   ]
  },
  {
   "cell_type": "code",
   "execution_count": null,
   "id": "f91238e5",
   "metadata": {},
   "outputs": [
    {
     "name": "stdout",
     "output_type": "stream",
     "text": [
      "5040\n"
     ]
    }
   ],
   "source": [
    "from functools import reduce\n",
    "\n",
    "def multiply(x,y):\n",
    "    return x *y\n",
    "numbers=[1,2,3,4,5,6,7]\n",
    "product=reduce(multiply,numbers)\n",
    "print(product)"
   ]
  },
  {
   "cell_type": "code",
   "execution_count": 19,
   "id": "7234f320",
   "metadata": {},
   "outputs": [
    {
     "name": "stdout",
     "output_type": "stream",
     "text": [
      "720\n"
     ]
    }
   ],
   "source": [
    "from functools import reduce\n",
    "\n",
    "a = [1, 2, 3, 4, 5, 6]\n",
    "res = reduce(lambda x, y: x * y , a)\n",
    "print(res)\n"
   ]
  },
  {
   "cell_type": "code",
   "execution_count": 21,
   "id": "2d558ad8",
   "metadata": {},
   "outputs": [
    {
     "name": "stdout",
     "output_type": "stream",
     "text": [
      "[('Arslan', 85), ('Faizan', 92), ('Ali', 78)]\n"
     ]
    }
   ],
   "source": [
    "#zip() multiple iterables (lists, tuples, etc.) ko ek saath pair karta hai, index-wise.\n",
    "names = [\"Arslan\", \"Faizan\", \"Ali\"]\n",
    "scores = [85, 92, 78]\n",
    "\n",
    "zipped = zip(names, scores)\n",
    "\n",
    "print(list(zipped))\n"
   ]
  },
  {
   "cell_type": "code",
   "execution_count": 22,
   "id": "2159fe25",
   "metadata": {},
   "outputs": [
    {
     "name": "stdout",
     "output_type": "stream",
     "text": [
      "Arslan scored 70\n",
      "Ahmed scored 95\n"
     ]
    }
   ],
   "source": [
    "students = [\"Arslan\", \"Ahmed\"]\n",
    "marks = [70, 95]\n",
    "\n",
    "for name, mark in zip(students, marks):\n",
    "    print(f\"{name} scored {mark}\")\n"
   ]
  },
  {
   "cell_type": "code",
   "execution_count": 23,
   "id": "c9c75140",
   "metadata": {},
   "outputs": [
    {
     "name": "stdout",
     "output_type": "stream",
     "text": [
      "0: apple\n",
      "1: banana\n",
      "2: mango\n"
     ]
    }
   ],
   "source": [
    "#enumerate() ek built-in function hai jo kisi iterable (like list, tuple, etc.) ko loop karte waqt element ke sath uska index bhi return karta hai.\n",
    "fruits = ['apple', 'banana', 'mango']\n",
    "\n",
    "for index, fruit in enumerate(fruits):\n",
    "    print(f\"{index}: {fruit}\")\n"
   ]
  },
  {
   "cell_type": "code",
   "execution_count": 24,
   "id": "9f200305",
   "metadata": {},
   "outputs": [
    {
     "name": "stdout",
     "output_type": "stream",
     "text": [
      "1. apple\n",
      "2. banana\n",
      "3. mango\n"
     ]
    }
   ],
   "source": [
    "for index, fruit in enumerate(fruits, start=1):\n",
    "    print(f\"{index}. {fruit}\")\n"
   ]
  },
  {
   "cell_type": "code",
   "execution_count": 26,
   "id": "8f40f0b1",
   "metadata": {},
   "outputs": [
    {
     "name": "stdout",
     "output_type": "stream",
     "text": [
      "Roll #101: Arslan\n",
      "Roll #102: Faizan\n",
      "Roll #103: Ali\n",
      "Roll #104: muhammad\n"
     ]
    }
   ],
   "source": [
    "students = ['Arslan', 'Faizan', 'Ali','muhammad']\n",
    "\n",
    "for roll_no, name in enumerate(students, start=101):\n",
    "    print(f\"Roll #{roll_no}: {name}\")\n"
   ]
  },
  {
   "cell_type": "code",
   "execution_count": null,
   "id": "5e93891c",
   "metadata": {},
   "outputs": [],
   "source": []
  }
 ],
 "metadata": {
  "kernelspec": {
   "display_name": "python_course",
   "language": "python",
   "name": "python3"
  },
  "language_info": {
   "codemirror_mode": {
    "name": "ipython",
    "version": 3
   },
   "file_extension": ".py",
   "mimetype": "text/x-python",
   "name": "python",
   "nbconvert_exporter": "python",
   "pygments_lexer": "ipython3",
   "version": "3.10.16"
  }
 },
 "nbformat": 4,
 "nbformat_minor": 5
}
