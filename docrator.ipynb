{
 "cells": [
  {
   "cell_type": "markdown",
   "id": "ce035c1e",
   "metadata": {},
   "source": [
    "docoratorThink of a decorator as a wrapper around a function"
   ]
  },
  {
   "cell_type": "code",
   "execution_count": 13,
   "id": "2b4ff676",
   "metadata": {},
   "outputs": [],
   "source": [
    "def decorator_function(original_function):\n",
    "    def wrapper_function():\n",
    "        print(\"Before the function call\")\n",
    "        original_function()\n",
    "        print(\"After the function call\")\n",
    "    return wrapper_function\n"
   ]
  },
  {
   "cell_type": "code",
   "execution_count": 14,
   "id": "e1cb2001",
   "metadata": {},
   "outputs": [
    {
     "name": "stdout",
     "output_type": "stream",
     "text": [
      "Before the function call\n",
      "Hello!\n",
      "After the function call\n"
     ]
    }
   ],
   "source": [
    "@decorator_function\n",
    "def say_hello():\n",
    "    print(\"Hello!\")\n",
    "\n",
    "say_hello()\n"
   ]
  },
  {
   "cell_type": "markdown",
   "id": "486ca0f8",
   "metadata": {},
   "source": [
    "Example: Logging Decorator"
   ]
  },
  {
   "cell_type": "code",
   "execution_count": 15,
   "id": "9a666e8e",
   "metadata": {},
   "outputs": [
    {
     "name": "stdout",
     "output_type": "stream",
     "text": [
      "Calling greet with ('Arslan',) and {}\n",
      "Hello, Arslan!\n"
     ]
    }
   ],
   "source": [
    "def log_function_call(func):\n",
    "    def wrapper(*args, **kwargs):\n",
    "        print(f\"Calling {func.__name__} with {args} and {kwargs}\")\n",
    "        return func(*args, **kwargs)\n",
    "    return wrapper\n",
    "\n",
    "@log_function_call\n",
    "def greet(name):\n",
    "    print(f\"Hello, {name}!\")\n",
    "\n",
    "greet(\"Arslan\")\n"
   ]
  },
  {
   "cell_type": "code",
   "execution_count": 16,
   "id": "a285acfa",
   "metadata": {},
   "outputs": [
    {
     "name": "stdout",
     "output_type": "stream",
     "text": [
      "calling function:say_hello\n",
      "hello!\n"
     ]
    }
   ],
   "source": [
    "def log_decorator(func):\n",
    "    #define the wrapper will modify behavour of orignal function\n",
    "    def wrapper():\n",
    "        print(f\"calling function:{func.__name__}\")#print the name of function being\n",
    "        return func()# call the original function\n",
    "    return  wrapper # return the modified function\n",
    "#apply the decorator to the 'say_hello' function using @log_decorator\n",
    "@log_decorator\n",
    "def say_hello():\n",
    "    print('hello!') # this function simple print hello\n",
    "\n",
    "  #call the decoraoter function\n",
    "say_hello()  \n"
   ]
  },
  {
   "cell_type": "code",
   "execution_count": 17,
   "id": "09bfa0bd",
   "metadata": {},
   "outputs": [
    {
     "name": "stdout",
     "output_type": "stream",
     "text": [
      "Hi!\n",
      "Hi!\n",
      "Hi!\n"
     ]
    }
   ],
   "source": [
    "def repeat(n):\n",
    "    def decorator(func):\n",
    "        def wrapper(*args, **kwargs):\n",
    "            for _ in range(n):\n",
    "                func(*args, **kwargs)\n",
    "        return wrapper\n",
    "    return decorator\n",
    "\n",
    "@repeat(3)\n",
    "def say_hi():\n",
    "    print(\"Hi!\")\n",
    "\n",
    "say_hi()\n"
   ]
  },
  {
   "cell_type": "code",
   "execution_count": 18,
   "id": "8275a614",
   "metadata": {},
   "outputs": [
    {
     "name": "stdout",
     "output_type": "stream",
     "text": [
      "Welcome Faizan to your dashboard.\n"
     ]
    }
   ],
   "source": [
    "#🔹 Real-World Use Case Example\n",
    "from functools import wraps\n",
    "\n",
    "def require_login(func):\n",
    "    @wraps(func)\n",
    "    def wrapper(user):\n",
    "        if not user.get(\"logged_in\"):\n",
    "            print(\"Access Denied!\")\n",
    "        else:\n",
    "            return func(user)\n",
    "    return wrapper\n",
    "\n",
    "@require_login\n",
    "def view_dashboard(user):\n",
    "    print(f\"Welcome {user['name']} to your dashboard.\")\n",
    "\n",
    "view_dashboard({\"name\": \"Faizan\", \"logged_in\": True})\n"
   ]
  },
  {
   "cell_type": "code",
   "execution_count": 21,
   "id": "23ad2791",
   "metadata": {},
   "outputs": [
    {
     "name": "stdout",
     "output_type": "stream",
     "text": [
      "✅ Doctor Dr. Faizan is available. Proceeding to consultation.\n",
      "📝 Consulting patient: Arslan, Age: 27\n",
      "Symptoms: Headache, Fever\n"
     ]
    }
   ],
   "source": [
    "# Doctor consultation decorator banaya ja raha hai\n",
    "def doctor_available(doctor_status):\n",
    "    def decorator(func):\n",
    "        def wrapper(*args, **kwargs):\n",
    "            # Doctor ki availability check ho rahi hai\n",
    "            if doctor_status['is_available']:\n",
    "                print(f\"✅ Doctor {doctor_status['name']} is available. Proceeding to consultation.\")\n",
    "                return func(*args, **kwargs)  # Patient ko consult karwana\n",
    "            else:\n",
    "                print(f\"❌ Doctor {doctor_status['name']} is not available at the moment.\")\n",
    "        return wrapper\n",
    "    return decorator\n",
    "\n",
    "# Doctor ki availability status\n",
    "doctor_status = {\n",
    "    'name': 'Dr. Faizan',\n",
    "    'is_available': True # Change this to False to test unavailable case\n",
    "}\n",
    "\n",
    "# Patient consultation function jisko decorator lagaya gaya hai\n",
    "@doctor_available(doctor_status)\n",
    "def consult_patient(patient_record):\n",
    "    # Patient ka data print ho raha hai\n",
    "    print(f\"📝 Consulting patient: {patient_record['name']}, Age: {patient_record['age']}\")\n",
    "    print(f\"Symptoms: {patient_record['symptoms']}\")\n",
    "\n",
    "# Patient ka record banaya gaya hai\n",
    "patient = {\n",
    "    'name': 'Arslan',\n",
    "    'age': 27,\n",
    "    'symptoms': 'Headache, Fever'\n",
    "}\n",
    "\n",
    "# Patient consult kar raha hai\n",
    "consult_patient(patient)\n"
   ]
  },
  {
   "cell_type": "code",
   "execution_count": null,
   "id": "56f5b058",
   "metadata": {},
   "outputs": [],
   "source": []
  },
  {
   "cell_type": "markdown",
   "id": "f93e1055",
   "metadata": {},
   "source": [
    "\n",
    "2. Core Concepts:\n",
    "Function as First-Class Citizen:\n",
    "Functions can be used as variables, passed as arguments to other functions, and returned from functions.\n",
    "Decorator Syntax:\n",
    "Define the Decorator Function:\n",
    "Assigned to Variables: Functions can be assigned to variables like any other object\n",
    "Passed as Arguments: Functions can be passed as arguments to other functions\n",
    "Returned from Functions: Functions can be returned from other functions\n",
    "How It Works:\n",
    "When a function is passed to a decorator, its behavior is extended without modifying the original function.\n",
    " \n",
    "\n",
    "3. Example of Decorator:\n",
    "def greet(): return 'Hello!'\n",
    "\n",
    "def call_function(func):\n",
    "\n",
    "    return func()\n",
    "\n",
    "print(call_function(greet))\n",
    "\n",
    "#output'Hello’\n",
    "\n",
    "Output:\n",
    "Logging: Function 'greet' is being called.\n",
    "Hello, John!\n",
    " \n",
    "4. Key Points in Using Decorators:\n",
    "Preserving Function Metadata:\n",
    "Use functools.wraps() to preserve the metadata of the original function when decorators are applied.\n",
    "Avoid Unnecessary Nesting of Decorators:\n",
    "Multiple decorators can make the code hard to follow. Avoid excessive nesting.\n",
    "\n",
    " \n",
    "\n",
    "5. Practical Use Cases:\n",
    "Logging and Time Measurement:\n",
    "Logging Function Call:\n",
    "def decorator_function(original_function):\n",
    "\n",
    "    def wrapper():\n",
    "\n",
    "        # Add extra functionality\n",
    "\n",
    "        return original_function()\n",
    "\n",
    "    return wrapper\n",
    "\n",
    " \n",
    "\n",
    "Time Measurement:\n",
    "import time\n",
    "\n",
    "def repeat(times):\n",
    "\n",
    "    def decorator(func):\n",
    "\n",
    "        def wrapper(*args, **kwargs):\n",
    "\n",
    "            for _ in range(times):\n",
    "\n",
    "                func(*args, **kwargs)\n",
    "\n",
    "        return wrapper\n",
    "\n",
    "    return decorator\n",
    "\n",
    " \n",
    "\n",
    "6. Passing Arguments to Decorators:\n",
    "Extra Function for Argument Passing:\n",
    "A decorator can take arguments, for example, to repeat a function multiple times:\n",
    "@repeat(3)\n",
    "\n",
    "def greet():\n",
    "\n",
    "    print('Hello!')\n",
    "\n",
    " \n",
    "\n",
    "Output:\n",
    "Hello\n",
    "Hello\n",
    "Hello\n",
    " \n",
    "Best Practices for Decorators:\n",
    "Use decorators to extend functionality without modifying the original code.\n",
    "Preserve function metadata using functools.wraps().\n",
    "Avoid unnecessary nesting of decorators to keep the code readable and maintainable.\n",
    "\n",
    " \n",
    "\n",
    "Conclusion:\n",
    "Decorators provide a clean, reusable way to add additional functionality to functions, such as logging or timing, without changing the core function.\n",
    "They are an essential concept for writing cleaner, more modular code in Python, especially when the same functionality needs to be applied to multiple functions."
   ]
  },
  {
   "cell_type": "markdown",
   "id": "56468991",
   "metadata": {},
   "source": []
  }
 ],
 "metadata": {
  "kernelspec": {
   "display_name": "python_course",
   "language": "python",
   "name": "python3"
  },
  "language_info": {
   "codemirror_mode": {
    "name": "ipython",
    "version": 3
   },
   "file_extension": ".py",
   "mimetype": "text/x-python",
   "name": "python",
   "nbconvert_exporter": "python",
   "pygments_lexer": "ipython3",
   "version": "3.10.16"
  }
 },
 "nbformat": 4,
 "nbformat_minor": 5
}
