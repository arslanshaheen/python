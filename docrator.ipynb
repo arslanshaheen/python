{
 "cells": [
  {
   "cell_type": "markdown",
   "id": "ce035c1e",
   "metadata": {},
   "source": [
    "docoratorThink of a decorator as a wrapper around a function"
   ]
  }
 ],
 "metadata": {
  "language_info": {
   "name": "python"
  }
 },
 "nbformat": 4,
 "nbformat_minor": 5
}
