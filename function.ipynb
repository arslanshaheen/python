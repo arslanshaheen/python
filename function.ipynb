{
 "cells": [
  {
   "cell_type": "markdown",
   "id": "02e54436",
   "metadata": {},
   "source": [
    "function"
   ]
  },
  {
   "cell_type": "markdown",
   "id": "f0335576",
   "metadata": {},
   "source": [
    "Instead of repeating the same logic again and again in different components, we just write it once, and reuse it anywhere by importing.\n"
   ]
  },
  {
   "cell_type": "markdown",
   "id": "abcd95bc",
   "metadata": {},
   "source": [
    "Types of Functions in Python\n",
    "1. Built-in Functions (Ready-made by Python)\n",
    "Ye woh functions hain jo Python khud provide karta hai. Aapko khud likhnay ki zarurat nahi hoti."
   ]
  },
  {
   "cell_type": "code",
   "execution_count": 15,
   "id": "d9b2d520",
   "metadata": {},
   "outputs": [
    {
     "name": "stdout",
     "output_type": "stream",
     "text": [
      "Hello\n"
     ]
    },
    {
     "data": {
      "text/plain": [
       "6"
      ]
     },
     "execution_count": 15,
     "metadata": {},
     "output_type": "execute_result"
    }
   ],
   "source": [
    "print(\"Hello\")\n",
    "len(\"Arslan\")\n",
    "sum([1, 2, 3])\n"
   ]
  },
  {
   "cell_type": "code",
   "execution_count": null,
   "id": "af434c4b",
   "metadata": {},
   "outputs": [],
   "source": []
  },
  {
   "cell_type": "code",
   "execution_count": 16,
   "id": "d9058f66",
   "metadata": {},
   "outputs": [
    {
     "name": "stdout",
     "output_type": "stream",
     "text": [
      "the type of number is confirm\n"
     ]
    }
   ],
   "source": [
    "name=input('enter name')\n",
    "print('the type of number is',name)"
   ]
  },
  {
   "cell_type": "markdown",
   "id": "fa9e1eae",
   "metadata": {},
   "source": [
    "user-defined Functions\n",
    "Aap khud function define karte ho using def keyword."
   ]
  },
  {
   "cell_type": "markdown",
   "id": "250b755c",
   "metadata": {},
   "source": []
  },
  {
   "cell_type": "code",
   "execution_count": 17,
   "id": "e2051a82",
   "metadata": {},
   "outputs": [
    {
     "name": "stdout",
     "output_type": "stream",
     "text": [
      "Hello Arslan\n"
     ]
    }
   ],
   "source": [
    "def greet(name):\n",
    "    return f\"Hello {name}\"\n",
    "\n",
    "print(greet(\"Arslan\"))  # Output: Hello Arslan\n"
   ]
  },
  {
   "cell_type": "code",
   "execution_count": null,
   "id": "33ee4968",
   "metadata": {},
   "outputs": [],
   "source": []
  },
  {
   "cell_type": "markdown",
   "id": "de718a52",
   "metadata": {},
   "source": [
    "Lambda Functions (Anonymous / One-line functions)\n",
    "Choti aur simple functions jo aik hi line mein likh saktay hain."
   ]
  },
  {
   "cell_type": "code",
   "execution_count": 18,
   "id": "e8e63d68",
   "metadata": {},
   "outputs": [
    {
     "name": "stdout",
     "output_type": "stream",
     "text": [
      "5\n"
     ]
    }
   ],
   "source": [
    "add = lambda x, y: x + y\n",
    "print(add(2, 3))  # Output: 5\n"
   ]
  },
  {
   "cell_type": "markdown",
   "id": "4345a503",
   "metadata": {},
   "source": [
    ". Recursive Functions\n",
    "Function jo khud ko dobara call karta hai (mostly for loops or complex calculations).\n",
    "\n",
    "python\n",
    "Copy\n",
    "Edit\n"
   ]
  },
  {
   "cell_type": "code",
   "execution_count": 19,
   "id": "0a5d614e",
   "metadata": {},
   "outputs": [
    {
     "name": "stdout",
     "output_type": "stream",
     "text": [
      "120\n"
     ]
    }
   ],
   "source": [
    "def factorial(n):\n",
    "    if n == 1:\n",
    "        return 1\n",
    "    return n * factorial(n-1)\n",
    "\n",
    "print(factorial(5))  # Output: 120\n"
   ]
  },
  {
   "cell_type": "markdown",
   "id": "8b07b8ef",
   "metadata": {},
   "source": [
    " Higher-order Functions\n",
    "Function jo kisi aur function ko accept karta hai ya return karta hai"
   ]
  },
  {
   "cell_type": "code",
   "execution_count": 20,
   "id": "799e24f8",
   "metadata": {},
   "outputs": [
    {
     "name": "stdout",
     "output_type": "stream",
     "text": [
      "HELLO\n"
     ]
    }
   ],
   "source": [
    "def shout(text):\n",
    "    return text.upper()\n",
    "\n",
    "def greet(func):\n",
    "    return func(\"hello\")\n",
    "\n",
    "print(greet(shout))  # Output: HELLO\n"
   ]
  },
  {
   "cell_type": "markdown",
   "id": "165b2565",
   "metadata": {},
   "source": [
    "Generator Functions\n",
    "Jo yield ka use kartay hain aur memory-efficient hotay hain (lazy evaluation).\n",
    "\n",
    "python\n",
    "Copy\n",
    "Edit\n"
   ]
  },
  {
   "cell_type": "code",
   "execution_count": 21,
   "id": "9bdee7d8",
   "metadata": {},
   "outputs": [
    {
     "name": "stdout",
     "output_type": "stream",
     "text": [
      "1\n",
      "2\n",
      "3\n"
     ]
    }
   ],
   "source": [
    "def count_up_to(n):\n",
    "    i = 1\n",
    "    while i <= n:\n",
    "        yield i\n",
    "        i += 1\n",
    "\n",
    "for num in count_up_to(3):\n",
    "    print(num)  # Output: 1 2 3\n"
   ]
  },
  {
   "cell_type": "code",
   "execution_count": 22,
   "id": "8b138f7e",
   "metadata": {},
   "outputs": [
    {
     "name": "stdout",
     "output_type": "stream",
     "text": [
      "dish 1 read\n",
      "dish 2 read\n",
      "dish 3 read\n",
      "dish 4 read\n",
      "dish 5 read\n",
      "dish 6 read\n"
     ]
    }
   ],
   "source": [
    "for i in range(6):\n",
    "    print('dish',i+1,\"read\")"
   ]
  },
  {
   "cell_type": "code",
   "execution_count": 23,
   "id": "3a19af69",
   "metadata": {},
   "outputs": [
    {
     "name": "stdout",
     "output_type": "stream",
     "text": [
      "the memory address of x: 1954843526768\n"
     ]
    }
   ],
   "source": [
    "x=45\n",
    "print('the memory address of x:',id(x))"
   ]
  },
  {
   "cell_type": "code",
   "execution_count": 24,
   "id": "9dc4c2ae",
   "metadata": {},
   "outputs": [
    {
     "name": "stdout",
     "output_type": "stream",
     "text": [
      "the result od expression  12\n"
     ]
    }
   ],
   "source": [
    "#convert string in to mathmatical expression\n",
    "expression='2 +5+5'\n",
    "result=eval(expression)\n",
    "print(\"the result od expression \",result)"
   ]
  },
  {
   "cell_type": "code",
   "execution_count": null,
   "id": "463bafe6",
   "metadata": {},
   "outputs": [],
   "source": []
  }
 ],
 "metadata": {
  "kernelspec": {
   "display_name": "python_course",
   "language": "python",
   "name": "python3"
  },
  "language_info": {
   "codemirror_mode": {
    "name": "ipython",
    "version": 3
   },
   "file_extension": ".py",
   "mimetype": "text/x-python",
   "name": "python",
   "nbconvert_exporter": "python",
   "pygments_lexer": "ipython3",
   "version": "3.10.16"
  }
 },
 "nbformat": 4,
 "nbformat_minor": 5
}
