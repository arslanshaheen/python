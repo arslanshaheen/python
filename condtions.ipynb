{
 "cells": [
  {
   "cell_type": "code",
   "execution_count": 1,
   "id": "f59181a7",
   "metadata": {},
   "outputs": [
    {
     "name": "stdout",
     "output_type": "stream",
     "text": [
      "car drive on road\n"
     ]
    }
   ],
   "source": [
    "trafic_light='green'\n",
    "\n",
    "if trafic_light=='green':\n",
    "    print('car drive on road')"
   ]
  },
  {
   "cell_type": "code",
   "execution_count": 4,
   "id": "a5806ade",
   "metadata": {},
   "outputs": [
    {
     "name": "stdout",
     "output_type": "stream",
     "text": [
      " stop driving car \n"
     ]
    }
   ],
   "source": [
    "trafic_light ='green'\n",
    "\n",
    "if trafic_light =='red':\n",
    "    print('drive thr car on road')\n",
    "else:\n",
    "    print(' stop driving car ')"
   ]
  },
  {
   "cell_type": "code",
   "execution_count": 5,
   "id": "e4295b2f",
   "metadata": {},
   "outputs": [
    {
     "name": "stdout",
     "output_type": "stream",
     "text": [
      "pedestrian not cross saftly\n"
     ]
    }
   ],
   "source": [
    "pedestrian_signal='flashing'\n",
    "\n",
    "if pedestrian_signal=='walk' and pedestrian_signal !='flashing':\n",
    "    print('pedestrian can cross saftly')\n",
    "else:\n",
    "    print('pedestrian not cross saftly')"
   ]
  },
  {
   "cell_type": "code",
   "execution_count": 6,
   "id": "01e0f14a",
   "metadata": {},
   "outputs": [
    {
     "name": "stdout",
     "output_type": "stream",
     "text": [
      "you must go now\n"
     ]
    }
   ],
   "source": [
    "trafic_signal='green'\n",
    "\n",
    "vehical_type='ambulance'\n",
    "\n",
    "if trafic_light=='red' or vehical_type=='ambulance':\n",
    "    print('you must go now')\n",
    "else:\n",
    "    print('stop and jalan it')\n"
   ]
  },
  {
   "cell_type": "code",
   "execution_count": 7,
   "id": "ea94db5e",
   "metadata": {},
   "outputs": [
    {
     "name": "stdout",
     "output_type": "stream",
     "text": [
      "cross road\n"
     ]
    }
   ],
   "source": [
    "pedestrian_signal='do not walk'\n",
    "\n",
    "if not pedestrian_signal=='walk':\n",
    "    print('cross road')\n",
    "\n",
    "else:\n",
    "    print('don not cross road')"
   ]
  },
  {
   "cell_type": "code",
   "execution_count": 15,
   "id": "6d3996fa",
   "metadata": {},
   "outputs": [
    {
     "name": "stdout",
     "output_type": "stream",
     "text": [
      "Warning: please wear your setbelt\n"
     ]
    }
   ],
   "source": [
    "car_speed=60\n",
    "\n",
    "car_setbelt=False\n",
    "\n",
    "if car_speed <=60:\n",
    "    if car_setbelt:\n",
    "        print('you are driving saftly')\n",
    "    else:\n",
    "        print('Warning: please wear your setbelt')\n",
    "        \n",
    "else:\n",
    "    print('slow down your speed limit')"
   ]
  },
  {
   "cell_type": "code",
   "execution_count": 18,
   "id": "202d3fa2",
   "metadata": {},
   "outputs": [
    {
     "name": "stdout",
     "output_type": "stream",
     "text": [
      "you must stop\n"
     ]
    }
   ],
   "source": [
    "trafic_light='red'\n",
    "\n",
    "road_clear=True\n",
    "\n",
    "if trafic_light=='green':\n",
    "    if road_clear:\n",
    "        print('road is clear you can go')\n",
    "    else:\n",
    "        print('road is not clear dont derive car stop on your postion until road lis clear')\n",
    "elif trafic_light=='yellow':\n",
    "    print('slow down the car')\n",
    "else:\n",
    "    print('you must stop')      "
   ]
  },
  {
   "cell_type": "code",
   "execution_count": null,
   "id": "2965c855",
   "metadata": {},
   "outputs": [],
   "source": []
  }
 ],
 "metadata": {
  "kernelspec": {
   "display_name": "python_course",
   "language": "python",
   "name": "python3"
  },
  "language_info": {
   "codemirror_mode": {
    "name": "ipython",
    "version": 3
   },
   "file_extension": ".py",
   "mimetype": "text/x-python",
   "name": "python",
   "nbconvert_exporter": "python",
   "pygments_lexer": "ipython3",
   "version": "3.10.16"
  }
 },
 "nbformat": 4,
 "nbformat_minor": 5
}
