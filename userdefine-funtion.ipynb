{
 "cells": [
  {
   "cell_type": "markdown",
   "id": "fb2027ad",
   "metadata": {},
   "source": [
    "User-defined functions in Python wo hoti hain jo hum khud banate hain apne code ke logic ke mutabiq. Yeh functions repeatedly use hone wale code ko reuseable banate hain, taake bar bar likhne ki zarurat na ho.\n",
    "\n"
   ]
  },
  {
   "cell_type": "code",
   "execution_count": 1,
   "id": "3a800ec6",
   "metadata": {},
   "outputs": [
    {
     "name": "stdout",
     "output_type": "stream",
     "text": [
      "number 1: 2\n",
      "number 2: 5\n",
      "response: 7\n"
     ]
    }
   ],
   "source": [
    "def add(num1, num2):\n",
    "    \"\"\"this is a function\"\"\"\n",
    "    print('number 1:', num1)\n",
    "    print('number 2:', num2)\n",
    "    additions = num1 + num2\n",
    "    return additions\n",
    "    \n",
    "res = add(2, 5)\n",
    "print('response:', res)\n",
    "\n"
   ]
  },
  {
   "cell_type": "markdown",
   "id": "d0b7c32a",
   "metadata": {},
   "source": [
    "Simple Example (No parameters, no return):\n",
    "\n"
   ]
  },
  {
   "cell_type": "code",
   "execution_count": 2,
   "id": "1942a29d",
   "metadata": {},
   "outputs": [
    {
     "name": "stdout",
     "output_type": "stream",
     "text": [
      "Hello, Arslan!\n"
     ]
    }
   ],
   "source": [
    "def greet():\n",
    "    print(\"Hello, Arslan!\")\n",
    "\n",
    "greet()  # Output: Hello, Arslan!"
   ]
  },
  {
   "cell_type": "markdown",
   "id": "ee5565e5",
   "metadata": {},
   "source": [
    "def greet(name):\n",
    "    print(f\"Hello, {name}!\")\n",
    "\n",
    "greet(\"Faizan\")  # Output: Hello, Faizan!\n"
   ]
  },
  {
   "cell_type": "code",
   "execution_count": 3,
   "id": "53b44630",
   "metadata": {},
   "outputs": [
    {
     "name": "stdout",
     "output_type": "stream",
     "text": [
      "Hello, Faizan!\n"
     ]
    }
   ],
   "source": [
    "def greet(name):\n",
    "    print(f\"Hello, {name}!\")\n",
    "\n",
    "greet(\"Faizan\")  # Output: Hello, Faizan!\n"
   ]
  },
  {
   "cell_type": "markdown",
   "id": "b6f132fa",
   "metadata": {},
   "source": [
    " Default Parameters:"
   ]
  },
  {
   "cell_type": "code",
   "execution_count": null,
   "id": "e9e7d04a",
   "metadata": {},
   "outputs": [],
   "source": [
    "def greet(name=\"Guest\"):\n",
    "    print(f\"Hello, {name}!\")\n",
    "\n",
    "greet()           # Output: Hello, Guest!\n",
    "greet(\"Arslan\")   # Output: Hello, Arslan!\n"
   ]
  },
  {
   "cell_type": "markdown",
   "id": "8ae75ed7",
   "metadata": {},
   "source": [
    " Keyword Arguments:"
   ]
  },
  {
   "cell_type": "code",
   "execution_count": 4,
   "id": "f7b8f51a",
   "metadata": {},
   "outputs": [
    {
     "name": "stdout",
     "output_type": "stream",
     "text": [
      "Name: Arslan, Age: 25\n"
     ]
    }
   ],
   "source": [
    "def user_info(name, age):\n",
    "    print(f\"Name: {name}, Age: {age}\")\n",
    "\n",
    "user_info(age=25, name=\"Arslan\")\n"
   ]
  },
  {
   "cell_type": "markdown",
   "id": "65b055b5",
   "metadata": {},
   "source": [
    " Return Multiple Values:"
   ]
  },
  {
   "cell_type": "code",
   "execution_count": 5,
   "id": "d24e5af5",
   "metadata": {},
   "outputs": [
    {
     "name": "stdout",
     "output_type": "stream",
     "text": [
      "15 5 50\n"
     ]
    }
   ],
   "source": [
    "def calc(a, b):\n",
    "    return a + b, a - b, a * b\n",
    "\n",
    "x, y, z = calc(10, 5)\n",
    "print(x, y, z)  # Output: 15 5 50\n"
   ]
  },
  {
   "cell_type": "markdown",
   "id": "3f8cc0c1",
   "metadata": {},
   "source": [
    "FUNCTION with *args tuple arguments"
   ]
  },
  {
   "cell_type": "code",
   "execution_count": 6,
   "id": "32da2ca8",
   "metadata": {},
   "outputs": [],
   "source": [
    "def my_function(*args):\n",
    "    for value in args:\n",
    "        print(value)\n"
   ]
  },
  {
   "cell_type": "code",
   "execution_count": 8,
   "id": "c7e8bb39",
   "metadata": {},
   "outputs": [
    {
     "name": "stdout",
     "output_type": "stream",
     "text": [
      "Total: 20\n"
     ]
    }
   ],
   "source": [
    "#  Example 1: Sum of any number of values\n",
    "def add_numbers(*args):\n",
    "    total = 0\n",
    "    for num in args:\n",
    "        total += num\n",
    "    return total\n",
    "\n",
    "result = add_numbers(2, 4, 6, 8)\n",
    "print(\"Total:\", result)\n"
   ]
  },
  {
   "cell_type": "code",
   "execution_count": 9,
   "id": "9a624342",
   "metadata": {},
   "outputs": [],
   "source": [
    "# 🔸 Example 2: Mix of data types"
   ]
  },
  {
   "cell_type": "code",
   "execution_count": 10,
   "id": "a4f0961e",
   "metadata": {},
   "outputs": [
    {
     "name": "stdout",
     "output_type": "stream",
     "text": [
      "Item: Arslan\n",
      "Item: 24\n",
      "Item: True\n",
      "Item: 5.6\n"
     ]
    }
   ],
   "source": [
    "def print_items(*args):\n",
    "    for item in args:\n",
    "        print(\"Item:\", item)\n",
    "\n",
    "print_items(\"Arslan\", 24, True, 5.6)\n"
   ]
  },
  {
   "cell_type": "code",
   "execution_count": 18,
   "id": "c40f4426",
   "metadata": {},
   "outputs": [
    {
     "name": "stdout",
     "output_type": "stream",
     "text": [
      "well james delcious vavauous\n"
     ]
    }
   ],
   "source": [
    "def name(*names):\n",
    "    print(\"well\",names[0],names[1],names[2])\n",
    "name(\"james\",\"delcious\",\"vavauous\")\n",
    "    \n",
    "# print(printName)"
   ]
  },
  {
   "cell_type": "code",
   "execution_count": 27,
   "id": "86c96db3",
   "metadata": {},
   "outputs": [
    {
     "name": "stdout",
     "output_type": "stream",
     "text": [
      "hellooali  shah\n"
     ]
    }
   ],
   "source": [
    "def names(fname,lastname):\n",
    "    return \"helloo\"+ fname + \"  \" +lastname\n",
    "print(names(\"ali\",\"shah\"))"
   ]
  },
  {
   "cell_type": "code",
   "execution_count": null,
   "id": "e34dce20",
   "metadata": {},
   "outputs": [],
   "source": []
  }
 ],
 "metadata": {
  "kernelspec": {
   "display_name": "python_course",
   "language": "python",
   "name": "python3"
  },
  "language_info": {
   "codemirror_mode": {
    "name": "ipython",
    "version": 3
   },
   "file_extension": ".py",
   "mimetype": "text/x-python",
   "name": "python",
   "nbconvert_exporter": "python",
   "pygments_lexer": "ipython3",
   "version": "3.10.16"
  }
 },
 "nbformat": 4,
 "nbformat_minor": 5
}
