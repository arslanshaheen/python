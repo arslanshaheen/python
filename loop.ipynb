{
 "cells": [
  {
   "cell_type": "code",
   "execution_count": 65,
   "id": "4e052b28",
   "metadata": {},
   "outputs": [
    {
     "name": "stdout",
     "output_type": "stream",
     "text": [
      "1\n",
      "2\n",
      "3\n",
      "4\n",
      "5\n",
      "6\n"
     ]
    }
   ],
   "source": [
    "number=[1,2,3,4,5,6]\n",
    "for num in number:\n",
    "    print(num)"
   ]
  },
  {
   "cell_type": "markdown",
   "id": "5e023d28",
   "metadata": {},
   "source": [
    "using enumerate() in for loops"
   ]
  },
  {
   "cell_type": "markdown",
   "id": "8e3a23ba",
   "metadata": {},
   "source": [
    "some time you need both items and index"
   ]
  },
  {
   "cell_type": "code",
   "execution_count": 66,
   "id": "ff587634",
   "metadata": {},
   "outputs": [
    {
     "name": "stdout",
     "output_type": "stream",
     "text": [
      "index 0:apple\n",
      "index 1:orange\n",
      "index 2:banana\n",
      "index 3:pinapple\n"
     ]
    }
   ],
   "source": [
    "fruits=['apple','orange','banana','pinapple']\n",
    "for index ,fruit in enumerate(fruits):\n",
    "    print(f\"index {index}:{fruit}\") #f-string use for clear formating used"
   ]
  },
  {
   "cell_type": "code",
   "execution_count": 67,
   "id": "f63223ee",
   "metadata": {},
   "outputs": [
    {
     "name": "stdout",
     "output_type": "stream",
     "text": [
      "index 0:apple\n",
      "index 1:banana\n",
      "index 2:cherrey\n"
     ]
    }
   ],
   "source": [
    "fruits=['apple','banana','cherrey']\n",
    "\n",
    "index=0\n",
    "\n",
    "for fruit in fruits:\n",
    "    print(f\"index {index}:{fruit}\")\n",
    "    index +=1 # manuwally increment index"
   ]
  },
  {
   "cell_type": "markdown",
   "id": "e3d8462f",
   "metadata": {},
   "source": [
    "iterating in Dictionaries"
   ]
  },
  {
   "cell_type": "code",
   "execution_count": 68,
   "id": "5f4e8668",
   "metadata": {},
   "outputs": [
    {
     "name": "stdout",
     "output_type": "stream",
     "text": [
      "iterating over keys:\n",
      "name:arslan\n",
      "age:30\n",
      "city:new york\n"
     ]
    }
   ],
   "source": [
    "person={\n",
    "    \"name\":\"arslan\",\n",
    "    \"age\":30,\n",
    "    \"city\":\"new york\"\n",
    "}\n",
    "\n",
    "print(\"iterating over keys:\")\n",
    "for key in person:\n",
    "    print(f\"{key}:{person[key]}\")"
   ]
  },
  {
   "cell_type": "code",
   "execution_count": 69,
   "id": "175b2d6c",
   "metadata": {},
   "outputs": [
    {
     "name": "stdout",
     "output_type": "stream",
     "text": [
      "iterating over keys:\n",
      "name:arslan\n",
      "age:30\n",
      "city:new york\n"
     ]
    }
   ],
   "source": [
    "person={\n",
    "    \"name\":\"arslan\",\n",
    "    \"age\":30,\n",
    "    \"city\":\"new york\"\n",
    "}\n",
    "\n",
    "print(\"iterating over keys:\")\n",
    "for key,value in person.items():\n",
    "    print(f\"{key}:{value}\")"
   ]
  },
  {
   "cell_type": "markdown",
   "id": "a2442f15",
   "metadata": {},
   "source": [
    "while loop"
   ]
  },
  {
   "cell_type": "markdown",
   "id": "acc5e939",
   "metadata": {},
   "source": [
    "while loop is runs as long as specified condition is True"
   ]
  },
  {
   "cell_type": "code",
   "execution_count": 70,
   "id": "52b800ee",
   "metadata": {},
   "outputs": [
    {
     "name": "stdout",
     "output_type": "stream",
     "text": [
      "count 0\n",
      "count 1\n",
      "count 2\n",
      "count 3\n",
      "count 4\n",
      "count 5\n"
     ]
    }
   ],
   "source": [
    "count=0\n",
    "while count<6:\n",
    "    print('count',count)\n",
    "    count+=1"
   ]
  },
  {
   "cell_type": "code",
   "execution_count": 71,
   "id": "007823c9",
   "metadata": {},
   "outputs": [],
   "source": [
    "# count=10\n",
    "# while count > 6:\n",
    "#     print('count',count)\n",
    "#     count+=1"
   ]
  },
  {
   "cell_type": "code",
   "execution_count": null,
   "id": "d5640afc",
   "metadata": {},
   "outputs": [],
   "source": []
  },
  {
   "cell_type": "markdown",
   "id": "31171193",
   "metadata": {},
   "source": [
    "loop controls\n"
   ]
  },
  {
   "cell_type": "markdown",
   "id": "17135f68",
   "metadata": {},
   "source": [
    "break "
   ]
  },
  {
   "cell_type": "markdown",
   "id": "751b3e40",
   "metadata": {},
   "source": [
    "break actully terminate the loop and extcute next code block"
   ]
  },
  {
   "cell_type": "markdown",
   "id": "331c48fd",
   "metadata": {},
   "source": [
    "continous"
   ]
  },
  {
   "cell_type": "markdown",
   "id": "acb93715",
   "metadata": {},
   "source": [
    "continous skipping the code "
   ]
  },
  {
   "cell_type": "code",
   "execution_count": 72,
   "id": "494c3171",
   "metadata": {},
   "outputs": [
    {
     "name": "stdout",
     "output_type": "stream",
     "text": [
      "current number: 0\n",
      "current number: 1\n",
      "current number: 2\n",
      "skipping the 3\n",
      "current number: 4\n",
      "current number: 5\n",
      "current number: 6\n",
      "current number: 7\n",
      "break the loop 8\n"
     ]
    }
   ],
   "source": [
    "for i in range(10):\n",
    "    if i == 3:\n",
    "        print(\"skipping the 3\")\n",
    "        continue  # Skips the rest of the loop for i = 3\n",
    "\n",
    "    if i == 8:\n",
    "        print(\"break the loop 8\")\n",
    "        break  # Exits the loop immediately\n",
    "    \n",
    "    print(\"current number:\", i)  # This will execute for all other cases\n",
    "else:\n",
    "    print(\"if condition is incorrect show this\")\n",
    "     "
   ]
  },
  {
   "cell_type": "code",
   "execution_count": null,
   "id": "39ec89fa",
   "metadata": {},
   "outputs": [],
   "source": []
  }
 ],
 "metadata": {
  "kernelspec": {
   "display_name": "python_course",
   "language": "python",
   "name": "python3"
  },
  "language_info": {
   "codemirror_mode": {
    "name": "ipython",
    "version": 3
   },
   "file_extension": ".py",
   "mimetype": "text/x-python",
   "name": "python",
   "nbconvert_exporter": "python",
   "pygments_lexer": "ipython3",
   "version": "3.10.16"
  }
 },
 "nbformat": 4,
 "nbformat_minor": 5
}
