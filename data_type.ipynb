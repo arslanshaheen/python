{
 "cells": [
  {
   "cell_type": "code",
   "execution_count": 7,
   "metadata": {},
   "outputs": [
    {
     "name": "stdout",
     "output_type": "stream",
     "text": [
      "my age is(my_age)\n"
     ]
    }
   ],
   "source": [
    "my_age=25\n",
    "print(\"my age is(my_age)\")"
   ]
  },
  {
   "cell_type": "code",
   "execution_count": 8,
   "metadata": {},
   "outputs": [
    {
     "name": "stdout",
     "output_type": "stream",
     "text": [
      "<class 'int'>\n",
      "<class 'int'>\n",
      "<class 'int'>\n"
     ]
    }
   ],
   "source": [
    "x = 1\n",
    "y = 35656222554887711\n",
    "z = -3255522\n",
    "\n",
    "print(type(x))\n",
    "print(type(y))\n",
    "print(type(z))"
   ]
  },
  {
   "cell_type": "code",
   "execution_count": 9,
   "metadata": {},
   "outputs": [
    {
     "name": "stdout",
     "output_type": "stream",
     "text": [
      "<class 'int'>\n"
     ]
    }
   ],
   "source": [
    "z=-555\n",
    "print(type(z))"
   ]
  },
  {
   "cell_type": "code",
   "execution_count": 6,
   "metadata": {},
   "outputs": [
    {
     "name": "stdout",
     "output_type": "stream",
     "text": [
      "not grster\n"
     ]
    }
   ],
   "source": [
    "a=10\n",
    "b=33\n",
    "if a>b and a<b:\n",
    "    print(\"hello world\")\n",
    "\n",
    "else:\n",
    "\n",
    "    print(\"not grster\")"
   ]
  },
  {
   "cell_type": "code",
   "execution_count": 10,
   "metadata": {},
   "outputs": [
    {
     "name": "stdout",
     "output_type": "stream",
     "text": [
      "OrderedDict([('a', 1), ('b', 2)])\n"
     ]
    }
   ],
   "source": [
    "from collections import OrderedDict\n",
    "od=OrderedDict()\n",
    "od['a']=1\n",
    "od['b']=2\n",
    "print(od)"
   ]
  },
  {
   "cell_type": "code",
   "execution_count": null,
   "metadata": {},
   "outputs": [
    {
     "name": "stdout",
     "output_type": "stream",
     "text": [
      "deque([0, 1, 2, 3])\n"
     ]
    }
   ],
   "source": [
    "from collections import deque\n",
    "q = deque([1, 2, 3])\n",
    "q.appendleft(0)\n",
    "print(q) "
   ]
  },
  {
   "cell_type": "code",
   "execution_count": 12,
   "metadata": {},
   "outputs": [
    {
     "name": "stdout",
     "output_type": "stream",
     "text": [
      "1 2\n"
     ]
    }
   ],
   "source": [
    "from collections import namedtuple\n",
    "Point = namedtuple(\"Point\", [\"x\", \"y\"])\n",
    "p = Point(1, 2)\n",
    "print(p.x, p.y)  # Output: 1 2\n"
   ]
  },
  {
   "cell_type": "code",
   "execution_count": 2,
   "metadata": {},
   "outputs": [
    {
     "name": "stdout",
     "output_type": "stream",
     "text": [
      "=\n"
     ]
    }
   ],
   "source": [
    "a = 330\n",
    "b = 330\n",
    "print(\"A\") if a > b else print(\"=\") if a == b else print(\"B\")"
   ]
  },
  {
   "cell_type": "code",
   "execution_count": null,
   "metadata": {},
   "outputs": [],
   "source": []
  },
  {
   "cell_type": "markdown",
   "metadata": {},
   "source": [
    "conda create -n python_programming python=3.10"
   ]
  },
  {
   "cell_type": "markdown",
   "metadata": {},
   "source": [
    "conda activite python_programming"
   ]
  },
  {
   "cell_type": "markdown",
   "metadata": {},
   "source": []
  },
  {
   "cell_type": "code",
   "execution_count": 1,
   "metadata": {},
   "outputs": [
    {
     "name": "stdout",
     "output_type": "stream",
     "text": [
      "pie (3, 14159) <class 'tuple'>\n",
      "small float  -0.0001 <class 'float'>\n",
      "exp_float 150.0 <class 'float'>\n"
     ]
    }
   ],
   "source": [
    "pi=3,14159\n",
    "small_float= -0.0001\n",
    "exp_float=1.5e2\n",
    "\n",
    "print(\"pie\", pi , type(pi))\n",
    "print(\"small float \", small_float , type(small_float))\n",
    "print(\"exp_float\", exp_float , type(exp_float))"
   ]
  },
  {
   "cell_type": "code",
   "execution_count": 2,
   "metadata": {},
   "outputs": [
    {
     "name": "stdout",
     "output_type": "stream",
     "text": [
      "hahaha <class 'str'>\n"
     ]
    }
   ],
   "source": [
    "ha_3_time= \"ha\" * 3\n",
    "print(ha_3_time,type(ha_3_time))"
   ]
  },
  {
   "cell_type": "code",
   "execution_count": 3,
   "metadata": {},
   "outputs": [
    {
     "name": "stdout",
     "output_type": "stream",
     "text": [
      "nothing here: None <class 'NoneType'>\n"
     ]
    }
   ],
   "source": [
    "#nontype\n",
    "none_value=None\n",
    "print(\"nothing here:\", none_value, type(none_value))"
   ]
  },
  {
   "cell_type": "code",
   "execution_count": 4,
   "metadata": {},
   "outputs": [
    {
     "name": "stdout",
     "output_type": "stream",
     "text": [
      "this varible has no value\n"
     ]
    }
   ],
   "source": [
    "if none_value is None:\n",
    "    print(\"this varible has no value\")"
   ]
  },
  {
   "cell_type": "code",
   "execution_count": 12,
   "metadata": {},
   "outputs": [
    {
     "name": "stdout",
     "output_type": "stream",
     "text": [
      "[10, 20, 'GfG', 40, True]\n",
      "10\n",
      "True\n",
      "True\n"
     ]
    }
   ],
   "source": [
    "# Creating a Python list with different data types\n",
    "a = [10, 20, \"GfG\", 40, True]\n",
    "print(a)\n",
    "print(a[0])\n",
    "print(a[4])\n",
    "print(a[-1]) #ture"
   ]
  },
  {
   "cell_type": "code",
   "execution_count": 26,
   "metadata": {},
   "outputs": [
    {
     "name": "stdout",
     "output_type": "stream",
     "text": [
      "['bce', 'kelly', 'efg', 'abc', 'hij', 'klm', 4, 8, 15, 16, 23, 42, 'creed']\n",
      "['bce', 'kelly', 'efg', 'abc', 'hij', 'klm', 4, 8, 15, 16, 23, 42]\n"
     ]
    }
   ],
   "source": [
    "lucky_numbers = [4, 8, 15, 16, 23, 42]\n",
    "friends = [\"bce\", \"efg\", \"abc\", \"hij\", \"klm\"]\n",
    "\n",
    "# Updating list element\n",
    "#friends[1] = \"nop\"\n",
    "\n",
    "# Printing a slice of the list\n",
    "#print(friends[1:4])\n",
    "\n",
    "# Extending the list with lucky_numbers\n",
    "friends.extend(lucky_numbers)\n",
    "\n",
    "# Adding elements\n",
    "friends.append(\"creed\")\n",
    "friends.insert(1, \"kelly\")\n",
    "print(friends)\n",
    "friends.pop()\n",
    "print(friends)\n",
    "# Removing elements\n",
    "#friends.remove(\"nop\")  # Changed from 'efg' to 'nop' because we replaced 'efg' earlier\n",
    "#friends.clear()\n",
    "\n",
    "\n",
    "\n",
    "# Finding index (will give an error if element is not found)\n",
    "# print(friends.index(\"efg\"))  # This will give an error because 'efg' is removed\n",
    "\n",
    "# Counting occurrences\n",
    "#count = friends.count(\"abc\")\n",
    "#print(count)\n",
    "\n",
    "# Sorting the list\n",
    "#friends.sort()\n",
    "#print(friends)\n"
   ]
  },
  {
   "cell_type": "code",
   "execution_count": 27,
   "metadata": {},
   "outputs": [
    {
     "name": "stdout",
     "output_type": "stream",
     "text": [
      "6\n"
     ]
    }
   ],
   "source": [
    "matrix = [\n",
    "    [1, 2, 3],\n",
    "    [4, 5, 6],\n",
    "    [7, 8, 9]\n",
    "]\n",
    "\n",
    "# Access element at row 2, column 3\n",
    "print(matrix[1][2])"
   ]
  },
  {
   "cell_type": "code",
   "execution_count": 28,
   "metadata": {},
   "outputs": [
    {
     "name": "stdout",
     "output_type": "stream",
     "text": [
      "name: JOB\n",
      "age: 30\n",
      "job Engineer\n"
     ]
    }
   ],
   "source": [
    "person_tuple=(\"JOB\",30,\"Engineer\")\n",
    "name,age,job=person_tuple\n",
    "\n",
    "print(\"name:\",name)\n",
    "print(\"age:\",age)\n",
    "print(\"job\",job)"
   ]
  },
  {
   "cell_type": "code",
   "execution_count": 29,
   "metadata": {},
   "outputs": [
    {
     "name": "stdout",
     "output_type": "stream",
     "text": [
      "('apple', 'kiwi', 'cherry')\n"
     ]
    }
   ],
   "source": [
    "#tuple\n",
    "x = (\"apple\", \"banana\", \"cherry\")\n",
    "y = list(x)\n",
    "y[1] = \"kiwi\"\n",
    "x = tuple(y)\n",
    "\n",
    "print(x)"
   ]
  },
  {
   "cell_type": "code",
   "execution_count": null,
   "metadata": {},
   "outputs": [
    {
     "name": "stdout",
     "output_type": "stream",
     "text": [
      "Ford <class 'dict'>\n",
      "Mustang\n",
      "{'brand': 'Ford', 'model': 'Mustang', 'year': 2020, 'city': 'new york'}\n",
      "brand: Ford\n",
      "model: Mustang\n",
      "year: 2020\n",
      "city: new york\n"
     ]
    }
   ],
   "source": [
    "#Dictionaries in Python\n",
    "thisdict = {\n",
    "  \"brand\": \"Ford\",\n",
    "  \"model\": \"Mustang\",\n",
    "  \"year\": 1964,\n",
    "  \"year\": 2020\n",
    "}\n",
    "\n",
    "print(thisdict[\"brand\"],type(thisdict))\n",
    "print(thisdict[\"model\"])\n",
    "thisdict[\"city\"]='new york' # add new york in dictionary\n",
    "print(thisdict)\n",
    "for key, value in thisdict.items():\n",
    "        print(f\"{key}: {value}\")"
   ]
  },
  {
   "cell_type": "code",
   "execution_count": null,
   "metadata": {},
   "outputs": [],
   "source": []
  }
 ],
 "metadata": {
  "kernelspec": {
   "display_name": "python_course",
   "language": "python",
   "name": "python3"
  },
  "language_info": {
   "codemirror_mode": {
    "name": "ipython",
    "version": 3
   },
   "file_extension": ".py",
   "mimetype": "text/x-python",
   "name": "python",
   "nbconvert_exporter": "python",
   "pygments_lexer": "ipython3",
   "version": "3.10.16"
  }
 },
 "nbformat": 4,
 "nbformat_minor": 2
}
