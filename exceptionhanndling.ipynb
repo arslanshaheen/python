{
 "cells": [
  {
   "cell_type": "markdown",
   "id": "23a14622",
   "metadata": {},
   "source": [
    "what is execption handling//\n",
    "\n",
    "Exception handling in Python is a way to manage errors that occur during program execution using try, except, else, and finally blocks, so the program doesn't crash unexpectedly. It helps to gracefully handle unexpected situations like file not found, division by zero,\n",
    "\n",
    "\n",
    "\n",
    "We need exception handling in Python to:\n",
    "\n",
    "Prevent program crashes – It catches errors and lets the program continue running smoothly.\n",
    "\n",
    "Handle unexpected situations – Like invalid user input, missing files, or network failures.\n",
    "\n",
    "Improve user experience – Instead of showing error messages, we can show friendly messages or fallback behavio\n"
   ]
  },
  {
   "cell_type": "markdown",
   "id": "09e23be3",
   "metadata": {},
   "source": []
  },
  {
   "cell_type": "code",
   "execution_count": 6,
   "id": "48bb7bef",
   "metadata": {},
   "outputs": [
    {
     "name": "stdout",
     "output_type": "stream",
     "text": [
      "3.3333333333333335\n"
     ]
    }
   ],
   "source": [
    "#multi exeption error\n",
    "\n",
    "try:\n",
    "    num = int(input(\"Enter a number: \"))\n",
    "    print(10 / num)\n",
    "except ZeroDivisionError:\n",
    "    print(\"Error: You can't divide by zero.\")\n"
   ]
  },
  {
   "cell_type": "code",
   "execution_count": 11,
   "id": "a267269d",
   "metadata": {},
   "outputs": [
    {
     "name": "stdout",
     "output_type": "stream",
     "text": [
      "Error: You can't divide by zero.\n"
     ]
    }
   ],
   "source": [
    "try:\n",
    "    num1 = int(input(\"Enter the first number: \"))\n",
    "    num2 = int(input(\"Enter the second number: \"))\n",
    "    \n",
    "    result = num1 / num2\n",
    "    print(\"Result:\", result)\n",
    "\n",
    "except ZeroDivisionError:\n",
    "    print(\"Error: You can't divide by zero.\")\n",
    "\n",
    "except ValueError:\n",
    "    print(\"Error: Please enter valid numbers.\")\n"
   ]
  },
  {
   "cell_type": "code",
   "execution_count": null,
   "id": "270456dd",
   "metadata": {},
   "outputs": [
    {
     "name": "stdout",
     "output_type": "stream",
     "text": [
      "an error ocuured\n"
     ]
    }
   ],
   "source": [
    "try:\n",
    "    num1 = int(input(\"Enter the first number: \"))\n",
    "    num2 = int(input(\"Enter the second number: \"))\n",
    "    \n",
    "    result = num1 / num2\n",
    "    print(\"Result:\", result)\n",
    "\n",
    "except Exception as e: #cash all exceptting\n",
    "    print('an error ocuured')    "
   ]
  },
  {
   "cell_type": "code",
   "execution_count": 14,
   "id": "5992bc98",
   "metadata": {},
   "outputs": [
    {
     "name": "stdout",
     "output_type": "stream",
     "text": [
      "Result: 0.5\n",
      "Execution finished. Thank you for using the calculator!\n"
     ]
    }
   ],
   "source": [
    "try:\n",
    "    num1 = int(input(\"Enter the first number: \"))\n",
    "    num2 = int(input(\"Enter the second number: \"))\n",
    "    result = num1 / num2\n",
    "    print(\"Result:\", result)\n",
    "\n",
    "except ZeroDivisionError as e:\n",
    "    print(\"ZeroDivisionError:\", e)\n",
    "\n",
    "except ValueError as e:\n",
    "    print(\"ValueError:\", e)\n",
    "\n",
    "finally:\n",
    "    print(\"Execution finished. Thank you for using the calculator!\")\n"
   ]
  },
  {
   "cell_type": "code",
   "execution_count": 17,
   "id": "4f17d96f",
   "metadata": {},
   "outputs": [
    {
     "name": "stdout",
     "output_type": "stream",
     "text": [
      "File closed.\n",
      "Finished.\n"
     ]
    }
   ],
   "source": [
    "try:\n",
    "    file = open('example.txt', 'r')\n",
    "    context = file.read()\n",
    "except FileNotFoundError:\n",
    "    print('File not found')\n",
    "finally:\n",
    "    try:\n",
    "        file.close()\n",
    "        print('File closed.')\n",
    "    except NameError:\n",
    "        print('No file was opened, so no file to close.')\n",
    "    print('Finished.')\n"
   ]
  },
  {
   "cell_type": "code",
   "execution_count": 18,
   "id": "2c8d1bc7",
   "metadata": {},
   "outputs": [
    {
     "name": "stdout",
     "output_type": "stream",
     "text": [
      "Withdrawal successful. New balance: 400\n",
      "Error: You don't have enough balance to withdraw this amount.\n",
      "Error: Amount must be greater than zero.\n"
     ]
    }
   ],
   "source": [
    "# Custom Exception Classes\n",
    "class InsufficientFundsError(Exception):\n",
    "    \"\"\"Raised when the user has insufficient funds.\"\"\"\n",
    "    def __init__(self, message=\"Insufficient funds to complete the transaction\"):\n",
    "        self.message = message\n",
    "        super().__init__(self.message)\n",
    "\n",
    "class InvalidAmountError(Exception):\n",
    "    \"\"\"Raised when the withdrawal amount is invalid.\"\"\"\n",
    "    def __init__(self, message=\"The withdrawal amount must be positive\"):\n",
    "        self.message = message\n",
    "        super().__init__(self.message)\n",
    "\n",
    "# Function to withdraw amount\n",
    "def withdraw(amount, balance):\n",
    "    try:\n",
    "        if amount <= 0:\n",
    "            raise InvalidAmountError(\"Amount must be greater than zero.\")\n",
    "        if amount > balance:\n",
    "            raise InsufficientFundsError(\"You don't have enough balance to withdraw this amount.\")\n",
    "        \n",
    "        balance -= amount\n",
    "        print(f\"Withdrawal successful. New balance: {balance}\")\n",
    "        return balance\n",
    "    except (InsufficientFundsError, InvalidAmountError) as e:\n",
    "        print(f\"Error: {e}\")\n",
    "        return balance\n",
    "\n",
    "# Test the withdraw function\n",
    "balance = 500\n",
    "\n",
    "# Valid withdrawal\n",
    "balance = withdraw(100, balance)  # This should succeed\n",
    "\n",
    "# Invalid withdrawal: insufficient funds\n",
    "balance = withdraw(600, balance)  # This will raise an InsufficientFundsError\n",
    "\n",
    "# Invalid withdrawal: negative amount\n",
    "balance = withdraw(-50, balance)  # This will raise an InvalidAmountError\n"
   ]
  },
  {
   "cell_type": "code",
   "execution_count": 19,
   "id": "0789c1bb",
   "metadata": {},
   "outputs": [
    {
     "name": "stdout",
     "output_type": "stream",
     "text": [
      "Error: Amount cannot be negative!\n"
     ]
    }
   ],
   "source": [
    "def withdraw(amount):\n",
    "    # Check if the amount is negative\n",
    "    if amount < 0:\n",
    "        # Raise a ValueError if the amount is negative\n",
    "        raise ValueError(\"Amount cannot be negative!\")\n",
    "    \n",
    "    # Print the withdrawal amount\n",
    "    print(f\"Withdrawing ${amount}\")\n",
    "\n",
    "try:\n",
    "    # Attempt to withdraw a negative amount\n",
    "    withdraw(-100)\n",
    "\n",
    "except ValueError as e:\n",
    "    # Handle the ValueError and print the error message\n",
    "    print(f\"Error: {e}\")\n"
   ]
  },
  {
   "cell_type": "code",
   "execution_count": 20,
   "id": "f848ac97",
   "metadata": {},
   "outputs": [
    {
     "name": "stdout",
     "output_type": "stream",
     "text": [
      "Reversed string: ih\n",
      "Number of vowels: 1\n"
     ]
    }
   ],
   "source": [
    "# Step 1: Get input from the user\n",
    "user_string = input(\"Enter a string: \")\n",
    "\n",
    "# Step 2: Reverse the string using slicing\n",
    "reversed_string = user_string[::-1]\n",
    "\n",
    "# Step 3: Define vowels (corrected)\n",
    "vowels = \"aeiouAEIOU\"\n",
    "\n",
    "# Step 4: Count vowels in the original string\n",
    "vowel_count = sum(1 for char in user_string if char in vowels)\n",
    "\n",
    "# Step 5: Display the reversed string\n",
    "print(f\"Reversed string: {reversed_string}\")\n",
    "\n",
    "# Step 6: Display the vowel count\n",
    "print(f\"Number of vowels: {vowel_count}\")"
   ]
  },
  {
   "cell_type": "code",
   "execution_count": 21,
   "id": "7ae45188",
   "metadata": {},
   "outputs": [
    {
     "name": "stdout",
     "output_type": "stream",
     "text": [
      "4 is even.\n"
     ]
    }
   ],
   "source": [
    "# Step 1: Get input from the user\n",
    "number = int(input(\"Enter a number: \"))\n",
    "\n",
    "# Step 2: Check if the number is even or odd\n",
    "if number % 2 == 0:\n",
    "    print(f\"{number} is even.\")\n",
    "else:\n",
    "    print(f\"{number} is odd.\")"
   ]
  },
  {
   "cell_type": "code",
   "execution_count": null,
   "id": "497c3de2",
   "metadata": {},
   "outputs": [],
   "source": []
  }
 ],
 "metadata": {
  "kernelspec": {
   "display_name": "python_course",
   "language": "python",
   "name": "python3"
  },
  "language_info": {
   "codemirror_mode": {
    "name": "ipython",
    "version": 3
   },
   "file_extension": ".py",
   "mimetype": "text/x-python",
   "name": "python",
   "nbconvert_exporter": "python",
   "pygments_lexer": "ipython3",
   "version": "3.10.16"
  }
 },
 "nbformat": 4,
 "nbformat_minor": 5
}
